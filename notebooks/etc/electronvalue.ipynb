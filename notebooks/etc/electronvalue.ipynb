{
 "cells": [
  {
   "cell_type": "code",
   "execution_count": 15,
   "metadata": {},
   "outputs": [
    {
     "name": "stderr",
     "output_type": "stream",
     "text": [
      " 82%|████████▏ | 3184/3879 [01:02<00:13, 52.38it/s]"
     ]
    },
    {
     "name": "stdout",
     "output_type": "stream",
     "text": [
      "Error processing /mnt/d/hyper-scope/data/interim/capillary/imgs/image_20240730_135141_642277.tif: failed to read 2016000 bytes, got 63360\n"
     ]
    },
    {
     "name": "stderr",
     "output_type": "stream",
     "text": [
      "100%|██████████| 3879/3879 [01:15<00:00, 51.07it/s]"
     ]
    },
    {
     "name": "stdout",
     "output_type": "stream",
     "text": [
      "Number of files processed: 3879\n",
      "Average RMS: 0.033226\n",
      "Final result in electrons: 252.18\n"
     ]
    },
    {
     "name": "stderr",
     "output_type": "stream",
     "text": [
      "\n"
     ]
    }
   ],
   "source": [
    "import numpy as np\n",
    "from pathlib import Path\n",
    "import tifffile\n",
    "from tqdm import tqdm\n",
    "\n",
    "# Constants\n",
    "FULL_WELL_CAPACITY = 11000\n",
    "QUANTUM_EFFICIENCY = 0.69\n",
    "\n",
    "def normalize_image(image):\n",
    "    \"\"\"Normalize image to 0-1 range preserving dynamic range\"\"\"\n",
    "    img_min = image.min()\n",
    "    img_max = image.max()\n",
    "    if img_max == img_min:\n",
    "        return np.zeros_like(image)\n",
    "    return (image - img_min) / (img_max - img_min)\n",
    "\n",
    "def calculate_rms(image):\n",
    "    \"\"\"Calculate RMS value of an image\"\"\"\n",
    "    return np.sqrt(np.mean(np.square(image)))\n",
    "\n",
    "# Get all matching tif files\n",
    "file_pattern = \"/mnt/d/hyper-scope/data/interim/capillary/imgs/image_20240730_*.tif\"\n",
    "tif_files = list(Path(\"/\").glob(file_pattern[1:]))  # Remove leading slash for Path\n",
    "\n",
    "if not tif_files:\n",
    "    print(f\"No files found matching pattern: {file_pattern}\")\n",
    "    exit(1)\n",
    "\n",
    "# Process each image\n",
    "rms_values = []\n",
    "for tif_file in tqdm(tif_files):\n",
    "    try:\n",
    "        # Load image\n",
    "        image = tifffile.imread(str(tif_file))\n",
    "        \n",
    "        # Normalize image\n",
    "        normalized_image = normalize_image(image)\n",
    "        \n",
    "        # Calculate RMS\n",
    "        rms = calculate_rms(normalized_image[normalized_image > 0])\n",
    "        rms_values.append(rms)\n",
    "        \n",
    "    except Exception as e:\n",
    "        print(f\"Error processing {tif_file}: {e}\")\n",
    "        continue\n",
    "\n",
    "if not rms_values:\n",
    "    print(\"No valid RMS values calculated\")\n",
    "    exit(1)\n",
    "\n",
    "# Calculate average RMS\n",
    "avg_rms = np.mean(rms_values)\n",
    "\n",
    "# Calculate final result in electrons\n",
    "electrons = avg_rms * FULL_WELL_CAPACITY * QUANTUM_EFFICIENCY\n",
    "\n",
    "print(f\"Number of files processed: {len(tif_files)}\")\n",
    "print(f\"Average RMS: {avg_rms:.6f}\")\n",
    "print(f\"Final result in electrons: {electrons:.2f}\")"
   ]
  },
  {
   "cell_type": "code",
   "execution_count": 19,
   "metadata": {},
   "outputs": [
    {
     "data": {
      "text/plain": [
       "1.9270126047301897e-14"
      ]
     },
     "execution_count": 19,
     "metadata": {},
     "output_type": "execute_result"
    }
   ],
   "source": [
    "h = 6.626e-34 # (Planck's constant)\n",
    "c = 3 * 10e8 # (speed of light in m/s)\n",
    "l = 515 # wavelength\n",
    "exp_t = 10e-3 # 10ms\n",
    "photon_flux = electrons / exp_t / (3.45 * 1e-6)\n",
    "E = (photon_flux * h * c) / l # power\n",
    "lux = E * 683 # V(λ)\n",
    "lux"
   ]
  }
 ],
 "metadata": {
  "kernelspec": {
   "display_name": ".venv",
   "language": "python",
   "name": "python3"
  },
  "language_info": {
   "codemirror_mode": {
    "name": "ipython",
    "version": 3
   },
   "file_extension": ".py",
   "mimetype": "text/x-python",
   "name": "python",
   "nbconvert_exporter": "python",
   "pygments_lexer": "ipython3",
   "version": "3.10.15"
  }
 },
 "nbformat": 4,
 "nbformat_minor": 2
}
