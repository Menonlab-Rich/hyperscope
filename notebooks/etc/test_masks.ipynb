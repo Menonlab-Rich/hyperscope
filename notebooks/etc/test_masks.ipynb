{
 "cells": [
  {
   "cell_type": "code",
   "execution_count": 6,
   "metadata": {},
   "outputs": [
    {
     "data": {
      "text/plain": [
       "{0, 1, 2}"
      ]
     },
     "execution_count": 6,
     "metadata": {},
     "output_type": "execute_result"
    }
   ],
   "source": [
    "from hyperscope import config\n",
    "\n",
    "unique_values = set()\n",
    "for path in (config.INTERIM_DATA_DIR / 'worms' / 'masks').iterdir():\n",
    "    if path.suffix != '.npz': continue\n",
    "    a = np.load(str(path))['arr_0']\n",
    "    for u in np.unique(a):\n",
    "        unique_values.add(u.item())\n",
    "\n",
    "unique_values"
   ]
  }
 ],
 "metadata": {
  "kernelspec": {
   "display_name": ".venv",
   "language": "python",
   "name": "python3"
  },
  "language_info": {
   "codemirror_mode": {
    "name": "ipython",
    "version": 3
   },
   "file_extension": ".py",
   "mimetype": "text/x-python",
   "name": "python",
   "nbconvert_exporter": "python",
   "pygments_lexer": "ipython3",
   "version": "3.10.15"
  }
 },
 "nbformat": 4,
 "nbformat_minor": 2
}
