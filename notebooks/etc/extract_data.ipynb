{
 "cells": [
  {
   "cell_type": "code",
   "execution_count": 1,
   "metadata": {},
   "outputs": [
    {
     "name": "stderr",
     "output_type": "stream",
     "text": [
      "\u001b[32m2024-12-03 22:06:14.042\u001b[0m | \u001b[1mINFO    \u001b[0m | \u001b[36mhyperscope.config\u001b[0m:\u001b[36m<module>\u001b[0m:\u001b[36m13\u001b[0m - \u001b[1mPROJ_ROOT path is: /mnt/d/hyper-scope\u001b[0m\n"
     ]
    },
    {
     "name": "stdout",
     "output_type": "stream",
     "text": [
      "\u001b[32m2024-12-03 22:06:14.199\u001b[0m | \u001b[1mINFO    \u001b[0m | \u001b[36m__main__\u001b[0m:\u001b[36mmain\u001b[0m:\u001b[36m29\u001b[0m - \u001b[1mEnumerating Files\u001b[0m\n",
      "\u001b[32m2024-12-03 22:06:24.095\u001b[0m | \u001b[1mINFO    \u001b[0m | \u001b[36m__main__\u001b[0m:\u001b[36mmain\u001b[0m:\u001b[36m32\u001b[0m - \u001b[1mCreating Futures\u001b[0m\n",
      "\u001b[32m2024-12-03 22:06:54.590\u001b[0m | \u001b[1mINFO    \u001b[0m | \u001b[36m__main__\u001b[0m:\u001b[36mmain\u001b[0m:\u001b[36m38\u001b[0m - \u001b[1mProcessing Files\u001b[0m\n"
     ]
    },
    {
     "name": "stderr",
     "output_type": "stream",
     "text": [
      "Processing files: 100%|██████████| 2024253/2024253 [1:03:28<00:00, 531.47it/s]\n"
     ]
    },
    {
     "name": "stdout",
     "output_type": "stream",
     "text": [
      "{0: 7884050302, 1: 296610305, 3: 52085801, 2: 58593880}\n"
     ]
    }
   ],
   "source": [
    "from hyperscope import config\n",
    "from hyperscope.helpers.concurrency import ConcurrentTqdm\n",
    "from multiprocessing import Pool\n",
    "import numpy as np\n",
    "from functools import partial\n",
    "\n",
    "\n",
    "def process_file(npfile):\n",
    "    try:\n",
    "        mask = np.load(npfile)[\"mask\"]\n",
    "        unique, counts = np.unique(mask, return_counts=True)\n",
    "        return np.asarray((unique, counts)).T\n",
    "    except Exception as e:\n",
    "        return None\n",
    "\n",
    "\n",
    "class CB:\n",
    "    def __init__(self):\n",
    "        self.counts = {}\n",
    "\n",
    "    def __call__(self, ok, arr):\n",
    "        if ok:\n",
    "            for row in arr:\n",
    "                self.counts[int(row[0])] = int(self.counts.get(row[0], 0) + row[1])\n",
    "\n",
    "def main():\n",
    "    cb = CB()\n",
    "    dd = config.INTERIM_DATA_DIR / \"worms\" / \"sp\" / \"masks\" / \"64x64\"\n",
    "    logger.info(\"Enumerating Files\")\n",
    "    files = list(dd.iterdir())\n",
    "\n",
    "    logger.info(\"Creating Futures\")\n",
    "    # Create a pool of workers\n",
    "    with Pool() as pool:\n",
    "        # Map the process_file function to all files\n",
    "        futures = [pool.apply_async(process_file, (f,)) for f in files]\n",
    "\n",
    "        logger.info(\"Processing Files\")\n",
    "        # Use ConcurrentTqdm to track progress\n",
    "        uniq = set()\n",
    "        for result in ConcurrentTqdm(\n",
    "            futures, total=len(files), desc=\"Processing files\"\n",
    "        ):\n",
    "            cb(*result)\n",
    "\n",
    "    print(cb.counts)\n",
    "\n",
    "if __name__ == \"__main__\":\n",
    "    main()"
   ]
  }
 ],
 "metadata": {
  "kernelspec": {
   "display_name": ".venv",
   "language": "python",
   "name": "python3"
  },
  "language_info": {
   "codemirror_mode": {
    "name": "ipython",
    "version": 3
   },
   "file_extension": ".py",
   "mimetype": "text/x-python",
   "name": "python",
   "nbconvert_exporter": "python",
   "pygments_lexer": "ipython3",
   "version": "3.10.15"
  }
 },
 "nbformat": 4,
 "nbformat_minor": 2
}
